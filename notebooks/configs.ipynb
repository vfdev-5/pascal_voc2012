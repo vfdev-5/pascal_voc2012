{
 "cells": [
  {
   "cell_type": "markdown",
   "metadata": {},
   "source": [
    "# Check configs"
   ]
  },
  {
   "cell_type": "code",
   "execution_count": 2,
   "metadata": {},
   "outputs": [],
   "source": [
    "# !pip3 install --upgrade attrs"
   ]
  },
  {
   "cell_type": "code",
   "execution_count": 1,
   "metadata": {},
   "outputs": [],
   "source": [
    "import sys\n",
    "sys.path.insert(0, \"../code/\")"
   ]
  },
  {
   "cell_type": "code",
   "execution_count": 2,
   "metadata": {},
   "outputs": [],
   "source": [
    "from custom_ignite.contrib.config_file import BaseConfig"
   ]
  },
  {
   "cell_type": "code",
   "execution_count": 3,
   "metadata": {},
   "outputs": [
    {
     "data": {
      "text/plain": [
       "BaseConfig(seed=961, device='cpu', debug=False)"
      ]
     },
     "execution_count": 3,
     "metadata": {},
     "output_type": "execute_result"
    }
   ],
   "source": [
    "b = BaseConfig()\n",
    "b"
   ]
  },
  {
   "cell_type": "code",
   "execution_count": 6,
   "metadata": {},
   "outputs": [],
   "source": [
    "\n",
    "import attr\n",
    "from attr.validators import optional, instance_of\n",
    "\n",
    "from custom_ignite.contrib.config_file import is_iterable_with_length\n",
    "from custom_ignite.contrib.config_file.training import ModelConfig, SolverConfig, ValidationConfig\n",
    "\n",
    "\n",
    "\n",
    "@attr.s\n",
    "class TrainConfig(BaseConfig):\n",
    "    \"\"\"Basic training configuration\n",
    "\n",
    "    \"\"\"\n",
    "\n",
    "    train_dataloader = attr.ib(validator=is_iterable_with_length, default=[])\n",
    "\n",
    "    model_conf = attr.ib(validator=instance_of(ModelConfig),\n",
    "                         default=ModelConfig())\n",
    "\n",
    "    solver = attr.ib(validator=instance_of(SolverConfig), default=SolverConfig())\n",
    "\n",
    "    validation = attr.ib(validator=optional(instance_of(ValidationConfig)), default=ValidationConfig())\n"
   ]
  },
  {
   "cell_type": "code",
   "execution_count": 7,
   "metadata": {},
   "outputs": [],
   "source": [
    "c = TrainConfig()"
   ]
  },
  {
   "cell_type": "code",
   "execution_count": 8,
   "metadata": {},
   "outputs": [
    {
     "data": {
      "text/plain": [
       "TrainConfig(seed=457, device='cpu', debug=False, train_dataloader=[], model_conf=ModelConfig(model=Module(), weights_filepath=None), solver=SolverConfig(optimizer=Optimizer (\n",
       "Parameter Group 0\n",
       "), criterion=Module(), num_epochs=1), validation=ValidationConfig(val_dataloader=[], val_metrics={'d': <custom_ignite.contrib.config_file.training._DummyMetric object at 0x7f373718fb38>}, val_interval=1, model_checkpoint_kwargs=None, train_metrics=None, train_eval_dataloader=None))"
      ]
     },
     "execution_count": 8,
     "metadata": {},
     "output_type": "execute_result"
    }
   ],
   "source": [
    "c"
   ]
  },
  {
   "cell_type": "code",
   "execution_count": null,
   "metadata": {},
   "outputs": [],
   "source": []
  },
  {
   "cell_type": "code",
   "execution_count": null,
   "metadata": {},
   "outputs": [],
   "source": []
  },
  {
   "cell_type": "code",
   "execution_count": 9,
   "metadata": {},
   "outputs": [],
   "source": [
    "import logging"
   ]
  },
  {
   "cell_type": "code",
   "execution_count": 10,
   "metadata": {},
   "outputs": [],
   "source": [
    "logger = logging.getLogger(\"test logger\")"
   ]
  },
  {
   "cell_type": "code",
   "execution_count": 11,
   "metadata": {},
   "outputs": [
    {
     "data": {
      "text/plain": [
       "0"
      ]
     },
     "execution_count": 11,
     "metadata": {},
     "output_type": "execute_result"
    }
   ],
   "source": [
    "logger.level"
   ]
  }
 ],
 "metadata": {
  "kernelspec": {
   "display_name": "Python 3",
   "language": "python",
   "name": "python3"
  },
  "language_info": {
   "codemirror_mode": {
    "name": "ipython",
    "version": 3
   },
   "file_extension": ".py",
   "mimetype": "text/x-python",
   "name": "python",
   "nbconvert_exporter": "python",
   "pygments_lexer": "ipython3",
   "version": "3.5.2"
  }
 },
 "nbformat": 4,
 "nbformat_minor": 2
}
