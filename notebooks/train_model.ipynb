{
 "cells": [
  {
   "cell_type": "markdown",
   "metadata": {},
   "source": [
    "# Check model training"
   ]
  },
  {
   "cell_type": "code",
   "execution_count": 1,
   "metadata": {},
   "outputs": [],
   "source": [
    "from albumentations import Compose, Resize, RandomCropNearBBox, ShiftScaleRotate, GaussNoise, ElasticTransform\n",
    "from albumentations import RandomBrightnessContrast, Normalize\n",
    "\n",
    "import cv2\n",
    "import torch\n",
    "\n",
    "import sys\n",
    "\n",
    "sys.path.insert(0, \"../code/deeplab\")\n",
    "\n",
    "\n",
    "from dataflow.dataloaders import get_train_val_loaders\n",
    "from dataflow.datasets import get_train_dataset\n",
    "from dataflow.transforms import ToTensor"
   ]
  },
  {
   "cell_type": "code",
   "execution_count": 2,
   "metadata": {},
   "outputs": [],
   "source": [
    "\n",
    "train_transforms = Compose([\n",
    "    ShiftScaleRotate(shift_limit=0.2, scale_limit=0.075, rotate_limit=45, interpolation=cv2.INTER_CUBIC, p=0.3),\n",
    "    Resize(224, 224, interpolation=cv2.INTER_CUBIC),\n",
    "    GaussNoise(),\n",
    "    RandomBrightnessContrast(),\n",
    "    Normalize(mean=(0.485, 0.456, 0.406), std=(0.229, 0.224, 0.225)),\n",
    "    ToTensor(),\n",
    "])\n",
    "train_transform_fn = lambda dp: train_transforms(**dp)\n",
    "\n",
    "\n",
    "\n",
    "val_transforms = Compose([\n",
    "    Resize(224, 224, interpolation=cv2.INTER_CUBIC),\n",
    "    Normalize(mean=(0.485, 0.456, 0.406), std=(0.229, 0.224, 0.225)),\n",
    "    ToTensor(),    \n",
    "])\n",
    "val_transform_fn = lambda dp: val_transforms(**dp)\n"
   ]
  },
  {
   "cell_type": "code",
   "execution_count": 3,
   "metadata": {},
   "outputs": [],
   "source": [
    "train_loader, val_loader, train_eval_loader = get_train_val_loaders(root_path=\"/home/storage_ext4_1tb/\", \n",
    "                                                                    train_transforms=train_transform_fn,\n",
    "                                                                    val_transforms=val_transform_fn,\n",
    "                                                                    batch_size=4,\n",
    "                                                                    random_seed=12)"
   ]
  },
  {
   "cell_type": "code",
   "execution_count": 4,
   "metadata": {},
   "outputs": [],
   "source": [
    "num_classes = 21"
   ]
  },
  {
   "cell_type": "code",
   "execution_count": 5,
   "metadata": {},
   "outputs": [],
   "source": [
    "from models.deeplabv3 import DeepLabV3\n",
    "from models.backbones import build_resnet18_backbone\n",
    "\n",
    "model = DeepLabV3(build_resnet18_backbone, num_classes=num_classes)"
   ]
  },
  {
   "cell_type": "code",
   "execution_count": null,
   "metadata": {},
   "outputs": [],
   "source": []
  },
  {
   "cell_type": "code",
   "execution_count": 6,
   "metadata": {},
   "outputs": [],
   "source": [
    "import torch.nn as nn\n",
    "\n",
    "from ignite.utils import convert_tensor, to_onehot"
   ]
  },
  {
   "cell_type": "code",
   "execution_count": 7,
   "metadata": {},
   "outputs": [],
   "source": [
    "device = 'cuda'\n",
    "\n",
    "model = model.to(device).half()\n",
    "criterion = nn.BCEWithLogitsLoss().to(device)"
   ]
  },
  {
   "cell_type": "code",
   "execution_count": 13,
   "metadata": {},
   "outputs": [],
   "source": [
    "for batch in train_loader:\n",
    "    x, y = batch['image'], batch['mask']\n",
    "    x = convert_tensor(x, device, non_blocking=True).half()\n",
    "    y = convert_tensor(y, device, non_blocking=True).long()\n",
    "    \n",
    "    # Ignore boundaries\n",
    "    y[y == 255] = 0\n",
    "    # to OHE\n",
    "    batch_size = y.shape[0]\n",
    "    size = y.shape[1:]\n",
    "    y = to_onehot(y.reshape(-1), num_classes=num_classes).reshape(batch_size, -1, *size)\n",
    "    \n",
    "    break"
   ]
  },
  {
   "cell_type": "code",
   "execution_count": 14,
   "metadata": {},
   "outputs": [
    {
     "data": {
      "text/plain": [
       "torch.Size([4, 224, 224])"
      ]
     },
     "execution_count": 14,
     "metadata": {},
     "output_type": "execute_result"
    }
   ],
   "source": [
    "batch['mask'].shape"
   ]
  },
  {
   "cell_type": "code",
   "execution_count": 15,
   "metadata": {},
   "outputs": [
    {
     "data": {
      "text/plain": [
       "(torch.Size([4, 3, 224, 224]),\n",
       " torch.Size([4, 21, 224, 224]),\n",
       " tensor([0., 1.], device='cuda:0'))"
      ]
     },
     "execution_count": 15,
     "metadata": {},
     "output_type": "execute_result"
    }
   ],
   "source": [
    "x.shape, y.shape, torch.unique(y)"
   ]
  },
  {
   "cell_type": "code",
   "execution_count": 10,
   "metadata": {},
   "outputs": [],
   "source": [
    "y_pred = model(x)"
   ]
  },
  {
   "cell_type": "code",
   "execution_count": 11,
   "metadata": {},
   "outputs": [
    {
     "data": {
      "text/plain": [
       "(torch.Size([4, 21, 224, 224]), 'torch.cuda.HalfTensor')"
      ]
     },
     "execution_count": 11,
     "metadata": {},
     "output_type": "execute_result"
    }
   ],
   "source": [
    "y_pred.shape, y_pred.type()"
   ]
  },
  {
   "cell_type": "code",
   "execution_count": 12,
   "metadata": {},
   "outputs": [
    {
     "data": {
      "text/plain": [
       "tensor(0.8636, device='cuda:0', grad_fn=<BinaryCrossEntropyWithLogitsBackward>)"
      ]
     },
     "execution_count": 12,
     "metadata": {},
     "output_type": "execute_result"
    }
   ],
   "source": [
    "loss = criterion(y_pred.float(), y)\n",
    "loss"
   ]
  },
  {
   "cell_type": "code",
   "execution_count": 13,
   "metadata": {},
   "outputs": [],
   "source": [
    "loss.backward()"
   ]
  },
  {
   "cell_type": "code",
   "execution_count": null,
   "metadata": {},
   "outputs": [],
   "source": []
  },
  {
   "cell_type": "code",
   "execution_count": null,
   "metadata": {},
   "outputs": [],
   "source": []
  }
 ],
 "metadata": {
  "kernelspec": {
   "display_name": "Python 3",
   "language": "python",
   "name": "python3"
  },
  "language_info": {
   "codemirror_mode": {
    "name": "ipython",
    "version": 3
   },
   "file_extension": ".py",
   "mimetype": "text/x-python",
   "name": "python",
   "nbconvert_exporter": "python",
   "pygments_lexer": "ipython3",
   "version": "3.5.2"
  }
 },
 "nbformat": 4,
 "nbformat_minor": 2
}
