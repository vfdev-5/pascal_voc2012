{
 "cells": [
  {
   "cell_type": "markdown",
   "metadata": {},
   "source": [
    "# Basic engine time profiling"
   ]
  },
  {
   "cell_type": "code",
   "execution_count": 168,
   "metadata": {},
   "outputs": [],
   "source": [
    "from collections import OrderedDict\n",
    "\n",
    "import torch\n",
    "\n",
    "from ignite.engine import Engine, Events\n",
    "from ignite.handlers import Timer\n",
    "\n",
    "\n",
    "def remove_handler(engine, handler, event_name):\n",
    "    assert event_name in engine._event_handlers    \n",
    "    engine._event_handlers[event_name] = [(h, args, kwargs) \n",
    "                                          for h, args, kwargs in engine._event_handlers[event_name] \n",
    "                                            if h != handler]\n",
    "\n",
    "class BasicTimeProfiler(object):\n",
    "\n",
    "    def __init__(self, output_path=None):\n",
    "        self.output_path = output_path\n",
    "        self._dataflow_timer = Timer()\n",
    "        self._processing_timer = Timer()\n",
    "        self._event_handlers_timer = Timer()\n",
    "\n",
    "    def _reset(self, num_iters, num_epochs, total_num_iters):\n",
    "        self.dataflow_times = torch.zeros(total_num_iters)\n",
    "        self.processing_times = torch.zeros(total_num_iters)        \n",
    "        self.event_handlers_times = {\n",
    "            Events.STARTED: torch.zeros(1),\n",
    "            Events.COMPLETED: torch.zeros(1),\n",
    "            Events.EPOCH_STARTED: torch.zeros(num_epochs),\n",
    "            Events.EPOCH_COMPLETED: torch.zeros(num_epochs),\n",
    "            Events.ITERATION_STARTED: torch.zeros(total_num_iters),\n",
    "            Events.ITERATION_COMPLETED: torch.zeros(total_num_iters)\n",
    "        }\n",
    "\n",
    "    def _as_first_started(self, engine):\n",
    "        num_iters = engine.state.max_epochs * len(engine.state.dataloader)\n",
    "        self._reset(len(engine.state.dataloader), engine.state.max_epochs, num_iters)\n",
    "        \n",
    "        self.event_handlers_names = {\n",
    "            e: [h.__name__ for (h, _, _) in engine._event_handlers[e]]\n",
    "            for e in Events if e != Events.EXCEPTION_RAISED\n",
    "        }\n",
    "        \n",
    "        # Setup all other handlers:\n",
    "        engine._event_handlers[Events.STARTED].append((self._as_last_started, (), {}))\n",
    "        #  - add the first handlers \n",
    "        events = [Events.EPOCH_STARTED, Events.EPOCH_COMPLETED, \n",
    "                  Events.ITERATION_STARTED, Events.ITERATION_COMPLETED, \n",
    "                  Events.COMPLETED]\n",
    "        fmethods = [self._as_first_epoch_started, self._as_first_epoch_completed, \n",
    "                   self._as_first_iter_started, self._as_first_iter_completed,\n",
    "                   self._as_first_completed]\n",
    "        lmethods = [self._as_last_epoch_started, self._as_last_epoch_completed, \n",
    "                   self._as_last_iter_started, self._as_last_iter_completed,\n",
    "                   self._as_last_completed]\n",
    "\n",
    "        for e, m in zip(events, fmethods):\n",
    "            engine._event_handlers[e].insert(0, (m, (), {}))\n",
    "\n",
    "        for e, m in zip(events, lmethods):\n",
    "            engine._event_handlers[e].append((m, (), {}))\n",
    "\n",
    "        # Let's go\n",
    "        self._event_handlers_timer.reset()\n",
    "\n",
    "    def _as_last_started(self, engine):        \n",
    "        self.event_handlers_times[Events.STARTED][0] = self._event_handlers_timer.value()\n",
    "\n",
    "    def _as_first_epoch_started(self, engine):\n",
    "        self._event_handlers_timer.reset()\n",
    "\n",
    "    def _as_last_epoch_started(self, engine):\n",
    "        t = self._event_handlers_timer.value()\n",
    "        e = engine.state.epoch - 1\n",
    "        self.event_handlers_times[Events.EPOCH_STARTED][e] = t\n",
    "\n",
    "        self._dataflow_timer.reset()\n",
    "\n",
    "    def _as_first_iter_started(self, engine):        \n",
    "        t = self._dataflow_timer.value()\n",
    "        i = engine.state.iteration - 1\n",
    "        self.dataflow_times[i] = t\n",
    "\n",
    "        self._event_handlers_timer.reset()\n",
    "\n",
    "    def _as_last_iter_started(self, engine):\n",
    "        t = self._event_handlers_timer.value()\n",
    "        i = engine.state.iteration - 1\n",
    "        self.event_handlers_times[Events.ITERATION_STARTED][i] = t\n",
    "\n",
    "        self._processing_timer.reset()\n",
    "\n",
    "    def _as_first_iter_completed(self, engine):\n",
    "        t = self._processing_timer.value()\n",
    "        i = engine.state.iteration - 1\n",
    "        self.processing_times[i] = t\n",
    "\n",
    "        self._event_handlers_timer.reset()        \n",
    "\n",
    "    def _as_last_iter_completed(self, engine):\n",
    "        t = self._event_handlers_timer.value()\n",
    "        i = engine.state.iteration - 1\n",
    "        self.event_handlers_times[Events.ITERATION_COMPLETED][i] = t\n",
    "\n",
    "        self._dataflow_timer.reset()\n",
    "\n",
    "    def _as_first_epoch_completed(self, engine):\n",
    "        self._event_handlers_timer.reset()\n",
    "\n",
    "    def _as_last_epoch_completed(self, engine):\n",
    "        t = self._event_handlers_timer.value()\n",
    "        e = engine.state.epoch - 1\n",
    "        self.event_handlers_times[Events.EPOCH_COMPLETED][e] = t\n",
    "\n",
    "    def _as_first_completed(self, engine):\n",
    "        self._event_handlers_timer.reset()\n",
    "\n",
    "    def _as_last_completed(self, engine):\n",
    "        self.event_handlers_times[Events.COMPLETED][0] = self._event_handlers_timer.value()\n",
    "\n",
    "        # Display stats\n",
    "        self.print_results(self.get_results())\n",
    "\n",
    "        # Write results\n",
    "        if self.output_path is not None:\n",
    "            self.write_results(self.output_path)\n",
    "        \n",
    "        # Remove added handlers:\n",
    "        remove_handler(engine, self._as_last_started, Events.STARTED)\n",
    "        \n",
    "        #  - add the first handlers \n",
    "        events = [Events.EPOCH_STARTED, Events.EPOCH_COMPLETED, \n",
    "                  Events.ITERATION_STARTED, Events.ITERATION_COMPLETED, \n",
    "                  Events.COMPLETED]\n",
    "        fmethods = [self._as_first_epoch_started, self._as_first_epoch_completed, \n",
    "                   self._as_first_iter_started, self._as_first_iter_completed,\n",
    "                   self._as_first_completed]\n",
    "        lmethods = [self._as_last_epoch_started, self._as_last_epoch_completed, \n",
    "                   self._as_last_iter_started, self._as_last_iter_completed,\n",
    "                   self._as_last_completed]\n",
    "\n",
    "        for e, m in zip(events, fmethods):\n",
    "            remove_handler(engine, m, e)          \n",
    "\n",
    "        for e, m in zip(events, lmethods):\n",
    "            remove_handler(engine, m, e)\n",
    "\n",
    "    def attach(self, engine):\n",
    "        if not isinstance(engine, Engine):\n",
    "            raise TypeError(\"Argument engine should be ignite.engine.Engine, \"\n",
    "                            \"but given {}\".format(type(engine)))\n",
    "        \n",
    "        if not engine.has_event_handler(self._as_first_started):\n",
    "            engine._event_handlers[Events.STARTED].insert(0, (self._as_first_started, (), {}))\n",
    "    \n",
    "    @staticmethod\n",
    "    def _compute_basic_stats(data):    \n",
    "        return OrderedDict([\n",
    "            ('min/index', (torch.min(data).item(), torch.argmin(data).item())),\n",
    "            ('max/index', (torch.max(data).item(), torch.argmax(data).item())),\n",
    "            ('mean', torch.mean(data).item()),\n",
    "            ('std', torch.std(data).item()),\n",
    "            ('total', torch.sum(data).item())\n",
    "        ])\n",
    "            \n",
    "    def get_results(self):\n",
    "        total_eh_time = sum([sum(self.event_handlers_times[e]) for e in Events if e != Events.EXCEPTION_RAISED])\n",
    "        return OrderedDict([\n",
    "            (\"processing_stats\", self._compute_basic_stats(self.processing_times)),\n",
    "            (\"dataflow_stats\", self._compute_basic_stats(self.dataflow_times)),\n",
    "            (\"event_handlers_stats\",\n",
    "                dict([(str(e).replace(\".\",\"_\"), self._compute_basic_stats(self.event_handlers_times[e])) for e in Events \n",
    "                      if e != Events.EXCEPTION_RAISED] + \n",
    "                     [(\"total_time\", total_eh_time)])\n",
    "            ),\n",
    "            (\"event_handlers_names\", {str(e).replace(\".\",\"_\") + \"_names\": v \n",
    "                                      for e, v in self.event_handlers_names.items()})\n",
    "        ])\n",
    "\n",
    "    @staticmethod\n",
    "    def odict_to_str(d):\n",
    "        out = \"\"\n",
    "        for k, v in d.items():\n",
    "            out += \"\\t{}: {}\\n\".format(k, v)\n",
    "        return out\n",
    "\n",
    "    @staticmethod\n",
    "    def print_results(results):\n",
    "        \n",
    "        others = {k: BasicTimeProfiler.odict_to_str(v) if isinstance(v, OrderedDict) else v \n",
    "                  for k, v in results['event_handlers_stats'].items()}\n",
    "        \n",
    "        others.update(results['event_handlers_names'])\n",
    "        \n",
    "        output_message = \"\"\"\n",
    "--------------------------------------------\n",
    "- Time profiling results:\n",
    "--------------------------------------------\n",
    "              \n",
    "Processing function time stats (in seconds):\n",
    "{processing_stats}\n",
    "\n",
    "Dataflow time stats (in seconds):\n",
    "{dataflow_stats}\n",
    "        \n",
    "Time stats of event handlers (in seconds):\n",
    "- Total time spent:\n",
    "\\t{total_time}\n",
    "\n",
    "- Events.STARTED:\n",
    "{Events_STARTED}\n",
    "Handlers names:\n",
    "{Events_STARTED_names}\n",
    "\n",
    "- Events.EPOCH_STARTED:\n",
    "{Events_EPOCH_STARTED}\n",
    "Handlers names:\n",
    "{Events_EPOCH_STARTED_names}\n",
    "\n",
    "- Events.ITERATION_STARTED:\n",
    "{Events_ITERATION_STARTED}\n",
    "Handlers names:\n",
    "{Events_ITERATION_STARTED_names}\n",
    "\n",
    "- Events.ITERATION_COMPLETED:\n",
    "{Events_ITERATION_COMPLETED}\n",
    "Handlers names:\n",
    "{Events_ITERATION_COMPLETED_names}\n",
    "\n",
    "- Events.EPOCH_COMPLETED:\n",
    "{Events_EPOCH_COMPLETED}\n",
    "Handlers names:\n",
    "{Events_EPOCH_COMPLETED_names}\n",
    "\n",
    "- Events.COMPLETED:\n",
    "{Events_COMPLETED}\n",
    "Handlers names:\n",
    "{Events_COMPLETED_names}\n",
    "\n",
    "\"\"\".format(processing_stats=BasicTimeProfiler.odict_to_str(results['processing_stats']), \n",
    "           dataflow_stats=BasicTimeProfiler.odict_to_str(results['dataflow_stats']), \n",
    "           **others)\n",
    "        print(output_message)\n",
    "    \n",
    "    @staticmethod\n",
    "    def write_results(output_path):\n",
    "        try:\n",
    "            import pandas as pd\n",
    "        except ImportError:\n",
    "            print(\"Need pandas to write results as files\")\n",
    "            return\n",
    "        \n",
    "        raise NotImplementedError(\"\")"
   ]
  },
  {
   "cell_type": "code",
   "execution_count": null,
   "metadata": {},
   "outputs": [],
   "source": []
  },
  {
   "cell_type": "code",
   "execution_count": 169,
   "metadata": {},
   "outputs": [],
   "source": [
    "from ignite.engine import Engine, Events\n",
    "\n",
    "import time"
   ]
  },
  {
   "cell_type": "code",
   "execution_count": 170,
   "metadata": {},
   "outputs": [],
   "source": [
    "def processing_function(engine, batch):\n",
    "    time.sleep(0.12345)\n",
    "    return "
   ]
  },
  {
   "cell_type": "code",
   "execution_count": 171,
   "metadata": {},
   "outputs": [],
   "source": [
    "engine = Engine(processing_function)"
   ]
  },
  {
   "cell_type": "code",
   "execution_count": 172,
   "metadata": {},
   "outputs": [],
   "source": [
    "@engine.on(Events.STARTED)\n",
    "def f1(engine):\n",
    "    print(\"f1 - Events.STARTED\")\n",
    "    time.sleep(0.1)\n",
    "    \n",
    "@engine.on(Events.STARTED)\n",
    "def f2(engine):\n",
    "    print(\"f2 - Events.STARTED\")\n",
    "    time.sleep(0.2)    "
   ]
  },
  {
   "cell_type": "code",
   "execution_count": 173,
   "metadata": {},
   "outputs": [],
   "source": [
    "@engine.on(Events.COMPLETED)\n",
    "def f3(engine):\n",
    "    print(\"f3 - Events.COMPLETED\")    \n",
    "    time.sleep(0.11)\n",
    "    \n",
    "@engine.on(Events.COMPLETED)\n",
    "def f4(engine):\n",
    "    print(\"f4 - Events.COMPLETED\")    \n",
    "    time.sleep(0.22)    "
   ]
  },
  {
   "cell_type": "code",
   "execution_count": 174,
   "metadata": {},
   "outputs": [],
   "source": [
    "profiler = BasicTimeProfiler()\n",
    "\n",
    "profiler.attach(engine)"
   ]
  },
  {
   "cell_type": "code",
   "execution_count": 175,
   "metadata": {},
   "outputs": [],
   "source": [
    "@engine.on(Events.EPOCH_STARTED)\n",
    "def f5(engine):\n",
    "    print(\"f5 - Events.EPOCH_STARTED\")\n",
    "    time.sleep(0.23)\n",
    "        \n",
    "@engine.on(Events.EPOCH_COMPLETED)\n",
    "def f6(engine):\n",
    "    print(\"f6 - Events.EPOCH_COMPLETED\")\n",
    "    time.sleep(0.12)    "
   ]
  },
  {
   "cell_type": "code",
   "execution_count": 176,
   "metadata": {},
   "outputs": [],
   "source": [
    "@engine.on(Events.ITERATION_STARTED)\n",
    "def f7(engine):\n",
    "    time.sleep(0.0123)\n",
    "        \n",
    "@engine.on(Events.ITERATION_COMPLETED)\n",
    "def f8(engine):\n",
    "    time.sleep(0.5333)    "
   ]
  },
  {
   "cell_type": "code",
   "execution_count": 177,
   "metadata": {},
   "outputs": [
    {
     "name": "stdout",
     "output_type": "stream",
     "text": [
      "f1 - Events.STARTED\n",
      "f2 - Events.STARTED\n",
      "f5 - Events.EPOCH_STARTED\n",
      "f6 - Events.EPOCH_COMPLETED\n",
      "f5 - Events.EPOCH_STARTED\n",
      "f6 - Events.EPOCH_COMPLETED\n",
      "f3 - Events.COMPLETED\n",
      "f4 - Events.COMPLETED\n",
      "\n",
      "--------------------------------------------\n",
      "- Time profiling results:\n",
      "--------------------------------------------\n",
      "              \n",
      "Processing function time stats (in seconds):\n",
      "\tmin/index: (0.12363585084676743, 8)\n",
      "\tmax/index: (0.12369796633720398, 6)\n",
      "\tmean: 0.12366489320993423\n",
      "\tstd: 1.790072383300867e-05\n",
      "\ttotal: 2.4732978343963623\n",
      "\n",
      "\n",
      "Dataflow time stats (in seconds):\n",
      "\tmin/index: (0.011218300089240074, 3)\n",
      "\tmax/index: (0.011265149340033531, 7)\n",
      "\tmean: 0.011234122328460217\n",
      "\tstd: 1.2680082363658585e-05\n",
      "\ttotal: 0.22468245029449463\n",
      "\n",
      "        \n",
      "Time stats of event handlers (in seconds):\n",
      "- Total time spent:\n",
      "\t22.268726348876953\n",
      "\n",
      "- Events.STARTED:\n",
      "\tmin/index: (0.30058592557907104, 0)\n",
      "\tmax/index: (0.30058592557907104, 0)\n",
      "\tmean: 0.30058592557907104\n",
      "\tstd: nan\n",
      "\ttotal: 0.30058592557907104\n",
      "\n",
      "Handlers names:\n",
      "['_as_first_started', 'f1', 'f2']\n",
      "\n",
      "- Events.EPOCH_STARTED:\n",
      "\tmin/index: (0.23035341501235962, 1)\n",
      "\tmax/index: (0.23038430511951447, 0)\n",
      "\tmean: 0.23036885261535645\n",
      "\tstd: 2.1842604837729596e-05\n",
      "\ttotal: 0.4607377052307129\n",
      "\n",
      "Handlers names:\n",
      "['f5']\n",
      "\n",
      "- Events.ITERATION_STARTED:\n",
      "\tmin/index: (0.012392470613121986, 5)\n",
      "\tmax/index: (0.012419672682881355, 18)\n",
      "\tmean: 0.012405967339873314\n",
      "\tstd: 7.960290531627834e-06\n",
      "\ttotal: 0.24811935424804688\n",
      "\n",
      "Handlers names:\n",
      "['f7']\n",
      "\n",
      "- Events.ITERATION_COMPLETED:\n",
      "\tmin/index: (1.0341954231262207, 7)\n",
      "\tmax/index: (1.0344610214233398, 3)\n",
      "\tmean: 1.0343842506408691\n",
      "\tstd: 6.033435056451708e-05\n",
      "\ttotal: 20.687685012817383\n",
      "\n",
      "Handlers names:\n",
      "['f8']\n",
      "\n",
      "- Events.EPOCH_COMPLETED:\n",
      "\tmin/index: (0.12025058269500732, 0)\n",
      "\tmax/index: (0.12027508020401001, 1)\n",
      "\tmean: 0.12026283144950867\n",
      "\tstd: 1.7322354324278422e-05\n",
      "\ttotal: 0.24052566289901733\n",
      "\n",
      "Handlers names:\n",
      "['f6']\n",
      "\n",
      "- Events.COMPLETED:\n",
      "\tmin/index: (0.33107301592826843, 0)\n",
      "\tmax/index: (0.33107301592826843, 0)\n",
      "\tmean: 0.33107301592826843\n",
      "\tstd: nan\n",
      "\ttotal: 0.33107301592826843\n",
      "\n",
      "Handlers names:\n",
      "['f3', 'f4']\n",
      "\n",
      "\n"
     ]
    },
    {
     "data": {
      "text/plain": [
       "<ignite.engine.engine.State at 0x7fd1a609f7f0>"
      ]
     },
     "execution_count": 177,
     "metadata": {},
     "output_type": "execute_result"
    }
   ],
   "source": [
    "class DataLoader():\n",
    "    \n",
    "    def __init__(self):\n",
    "        self.data = list(range(10))\n",
    "\n",
    "    def __getitem__(self, i):\n",
    "        time.sleep(0.0111)\n",
    "        return self.data[i]\n",
    "\n",
    "    def __len__(self):\n",
    "        return len(self.data)\n",
    "\n",
    "\n",
    "\n",
    "data = DataLoader()\n",
    "\n",
    "engine.run(data, max_epochs=2)"
   ]
  },
  {
   "cell_type": "code",
   "execution_count": null,
   "metadata": {},
   "outputs": [],
   "source": []
  },
  {
   "cell_type": "code",
   "execution_count": null,
   "metadata": {},
   "outputs": [],
   "source": []
  },
  {
   "cell_type": "code",
   "execution_count": 120,
   "metadata": {},
   "outputs": [],
   "source": [
    "res = profiler.get_results()"
   ]
  },
  {
   "cell_type": "code",
   "execution_count": 121,
   "metadata": {},
   "outputs": [],
   "source": [
    "d = res['event_handlers_stats']"
   ]
  },
  {
   "cell_type": "code",
   "execution_count": 125,
   "metadata": {},
   "outputs": [
    {
     "data": {
      "text/plain": [
       "{'Events_COMPLETED': collections.OrderedDict,\n",
       " 'Events_EPOCH_COMPLETED': collections.OrderedDict,\n",
       " 'Events_EPOCH_STARTED': collections.OrderedDict,\n",
       " 'Events_ITERATION_COMPLETED': collections.OrderedDict,\n",
       " 'Events_ITERATION_STARTED': collections.OrderedDict,\n",
       " 'Events_STARTED': collections.OrderedDict,\n",
       " 'total_time': torch.Tensor}"
      ]
     },
     "execution_count": 125,
     "metadata": {},
     "output_type": "execute_result"
    }
   ],
   "source": [
    "{k: type(v) for k, v in res['event_handlers_stats'].items()}"
   ]
  },
  {
   "cell_type": "code",
   "execution_count": 108,
   "metadata": {},
   "outputs": [],
   "source": [
    "def odict_to_str(d):\n",
    "    out = \"\"\n",
    "    for k, v in d.items():\n",
    "        out += \"\\t{}: {}\\n\".format(k, v)\n",
    "    return out"
   ]
  },
  {
   "cell_type": "code",
   "execution_count": 109,
   "metadata": {},
   "outputs": [
    {
     "name": "stdout",
     "output_type": "stream",
     "text": [
      "\tmin/index: (0.12362832576036453, 17)\n",
      "\tmax/index: (0.12369902431964874, 10)\n",
      "\tmean: 0.12365998327732086\n",
      "\tstd: 1.8820035620592535e-05\n",
      "\ttotal: 2.4731996059417725\n",
      "\n"
     ]
    }
   ],
   "source": [
    "print(odict_to_str(d))"
   ]
  },
  {
   "cell_type": "code",
   "execution_count": null,
   "metadata": {},
   "outputs": [],
   "source": []
  },
  {
   "cell_type": "code",
   "execution_count": null,
   "metadata": {},
   "outputs": [],
   "source": []
  },
  {
   "cell_type": "code",
   "execution_count": 84,
   "metadata": {},
   "outputs": [
    {
     "data": {
      "text/plain": [
       "{'Events.COMPLETED': OrderedDict([('min/index', (0.3306533098220825, 0)),\n",
       "              ('max/index', (0.3306533098220825, 0)),\n",
       "              ('mean', 0.3306533098220825),\n",
       "              ('std', nan),\n",
       "              ('total', 0.3306533098220825)]),\n",
       " 'Events.EPOCH_COMPLETED': OrderedDict([('min/index',\n",
       "               (0.12030424177646637, 0)),\n",
       "              ('max/index', (0.12030671536922455, 1)),\n",
       "              ('mean', 0.12030547857284546),\n",
       "              ('std', 1.7490941672804183e-06),\n",
       "              ('total', 0.24061095714569092)]),\n",
       " 'Events.EPOCH_STARTED': OrderedDict([('min/index', (0.23040813207626343, 1)),\n",
       "              ('max/index', (0.23040902614593506, 0)),\n",
       "              ('mean', 0.23040857911109924),\n",
       "              ('std', 6.322027275018627e-07),\n",
       "              ('total', 0.4608171582221985)]),\n",
       " 'Events.ITERATION_COMPLETED': OrderedDict([('min/index',\n",
       "               (0.03337053954601288, 13)),\n",
       "              ('max/index', (0.03342927619814873, 17)),\n",
       "              ('mean', 0.03340839967131615),\n",
       "              ('std', 1.736041303956881e-05),\n",
       "              ('total', 0.6681680083274841)]),\n",
       " 'Events.ITERATION_STARTED': OrderedDict([('min/index',\n",
       "               (0.012365132570266724, 13)),\n",
       "              ('max/index', (0.012505617924034595, 15)),\n",
       "              ('mean', 0.012404722161591053),\n",
       "              ('std', 3.069364174734801e-05),\n",
       "              ('total', 0.24809443950653076)]),\n",
       " 'Events.STARTED': OrderedDict([('min/index', (0.30064183473587036, 0)),\n",
       "              ('max/index', (0.30064183473587036, 0)),\n",
       "              ('mean', 0.30064183473587036),\n",
       "              ('std', nan),\n",
       "              ('total', 0.30064183473587036)]),\n",
       " 'total_time': tensor(2.2490)}"
      ]
     },
     "execution_count": 84,
     "metadata": {},
     "output_type": "execute_result"
    }
   ],
   "source": [
    "res['event_handlers_stats']"
   ]
  },
  {
   "cell_type": "code",
   "execution_count": null,
   "metadata": {},
   "outputs": [],
   "source": []
  },
  {
   "cell_type": "code",
   "execution_count": null,
   "metadata": {},
   "outputs": [],
   "source": []
  },
  {
   "cell_type": "code",
   "execution_count": 57,
   "metadata": {},
   "outputs": [
    {
     "data": {
      "text/plain": [
       "{'max': (0.12424758076667786, 233),\n",
       " 'mean': 0.12366418540477753,\n",
       " 'min': (0.12356055527925491, 222),\n",
       " 'std': 4.8520789277972654e-05,\n",
       " 'total': 30.916046142578125}"
      ]
     },
     "execution_count": 57,
     "metadata": {},
     "output_type": "execute_result"
    }
   ],
   "source": [
    "profiler._compute_basic_stats(profiler.processing_times)"
   ]
  },
  {
   "cell_type": "code",
   "execution_count": 58,
   "metadata": {},
   "outputs": [
    {
     "data": {
      "text/plain": [
       "\u001b[0;31mSignature:\u001b[0m \u001b[0mprofiler\u001b[0m\u001b[0;34m.\u001b[0m\u001b[0m_compute_basic_stats\u001b[0m\u001b[0;34m(\u001b[0m\u001b[0mdata\u001b[0m\u001b[0;34m)\u001b[0m\u001b[0;34m\u001b[0m\u001b[0m\n",
       "\u001b[0;31mDocstring:\u001b[0m <no docstring>\n",
       "\u001b[0;31mSource:\u001b[0m   \n",
       "    \u001b[0;34m@\u001b[0m\u001b[0mstaticmethod\u001b[0m\u001b[0;34m\u001b[0m\n",
       "\u001b[0;34m\u001b[0m    \u001b[0;32mdef\u001b[0m \u001b[0m_compute_basic_stats\u001b[0m\u001b[0;34m(\u001b[0m\u001b[0mdata\u001b[0m\u001b[0;34m)\u001b[0m\u001b[0;34m:\u001b[0m    \u001b[0;34m\u001b[0m\n",
       "\u001b[0;34m\u001b[0m        \u001b[0;32mreturn\u001b[0m \u001b[0mOrderedDict\u001b[0m\u001b[0;34m(\u001b[0m\u001b[0;34m\u001b[0m\n",
       "\u001b[0;34m\u001b[0m            \u001b[0;34m(\u001b[0m\u001b[0;34m'min/index'\u001b[0m\u001b[0;34m,\u001b[0m \u001b[0;34m(\u001b[0m\u001b[0mtorch\u001b[0m\u001b[0;34m.\u001b[0m\u001b[0mmin\u001b[0m\u001b[0;34m(\u001b[0m\u001b[0mdata\u001b[0m\u001b[0;34m)\u001b[0m\u001b[0;34m.\u001b[0m\u001b[0mitem\u001b[0m\u001b[0;34m(\u001b[0m\u001b[0;34m)\u001b[0m\u001b[0;34m,\u001b[0m \u001b[0mtorch\u001b[0m\u001b[0;34m.\u001b[0m\u001b[0margmin\u001b[0m\u001b[0;34m(\u001b[0m\u001b[0mdata\u001b[0m\u001b[0;34m)\u001b[0m\u001b[0;34m.\u001b[0m\u001b[0mitem\u001b[0m\u001b[0;34m(\u001b[0m\u001b[0;34m)\u001b[0m\u001b[0;34m)\u001b[0m\u001b[0;34m)\u001b[0m\u001b[0;34m,\u001b[0m\u001b[0;34m\u001b[0m\n",
       "\u001b[0;34m\u001b[0m            \u001b[0;34m(\u001b[0m\u001b[0;34m'max/index'\u001b[0m\u001b[0;34m,\u001b[0m \u001b[0;34m(\u001b[0m\u001b[0mtorch\u001b[0m\u001b[0;34m.\u001b[0m\u001b[0mmax\u001b[0m\u001b[0;34m(\u001b[0m\u001b[0mdata\u001b[0m\u001b[0;34m)\u001b[0m\u001b[0;34m.\u001b[0m\u001b[0mitem\u001b[0m\u001b[0;34m(\u001b[0m\u001b[0;34m)\u001b[0m\u001b[0;34m,\u001b[0m \u001b[0mtorch\u001b[0m\u001b[0;34m.\u001b[0m\u001b[0margmax\u001b[0m\u001b[0;34m(\u001b[0m\u001b[0mdata\u001b[0m\u001b[0;34m)\u001b[0m\u001b[0;34m.\u001b[0m\u001b[0mitem\u001b[0m\u001b[0;34m(\u001b[0m\u001b[0;34m)\u001b[0m\u001b[0;34m)\u001b[0m\u001b[0;34m)\u001b[0m\u001b[0;34m,\u001b[0m\u001b[0;34m\u001b[0m\n",
       "\u001b[0;34m\u001b[0m            \u001b[0;34m(\u001b[0m\u001b[0;34m'mean'\u001b[0m\u001b[0;34m,\u001b[0m \u001b[0mtorch\u001b[0m\u001b[0;34m.\u001b[0m\u001b[0mmean\u001b[0m\u001b[0;34m(\u001b[0m\u001b[0mdata\u001b[0m\u001b[0;34m)\u001b[0m\u001b[0;34m.\u001b[0m\u001b[0mitem\u001b[0m\u001b[0;34m(\u001b[0m\u001b[0;34m)\u001b[0m\u001b[0;34m)\u001b[0m\u001b[0;34m,\u001b[0m\u001b[0;34m\u001b[0m\n",
       "\u001b[0;34m\u001b[0m            \u001b[0;34m(\u001b[0m\u001b[0;34m'std'\u001b[0m\u001b[0;34m,\u001b[0m \u001b[0mtorch\u001b[0m\u001b[0;34m.\u001b[0m\u001b[0mstd\u001b[0m\u001b[0;34m(\u001b[0m\u001b[0mdata\u001b[0m\u001b[0;34m)\u001b[0m\u001b[0;34m.\u001b[0m\u001b[0mitem\u001b[0m\u001b[0;34m(\u001b[0m\u001b[0;34m)\u001b[0m\u001b[0;34m)\u001b[0m\u001b[0;34m,\u001b[0m\u001b[0;34m\u001b[0m\n",
       "\u001b[0;34m\u001b[0m            \u001b[0;34m(\u001b[0m\u001b[0;34m'total'\u001b[0m\u001b[0;34m,\u001b[0m \u001b[0mtorch\u001b[0m\u001b[0;34m.\u001b[0m\u001b[0msum\u001b[0m\u001b[0;34m(\u001b[0m\u001b[0mdata\u001b[0m\u001b[0;34m)\u001b[0m\u001b[0;34m.\u001b[0m\u001b[0mitem\u001b[0m\u001b[0;34m(\u001b[0m\u001b[0;34m)\u001b[0m\u001b[0;34m)\u001b[0m\u001b[0;34m\u001b[0m\n",
       "\u001b[0;34m\u001b[0m        \u001b[0;34m)\u001b[0m\u001b[0;34m\u001b[0m\u001b[0m\n",
       "\u001b[0;31mFile:\u001b[0m      /home/working_directory/ml/plx_projects/pascal_voc2012/notebooks/<ipython-input-42-7ffbee68b9c0>\n",
       "\u001b[0;31mType:\u001b[0m      function\n"
      ]
     },
     "metadata": {},
     "output_type": "display_data"
    }
   ],
   "source": [
    "profiler._compute_basic_stats??"
   ]
  },
  {
   "cell_type": "code",
   "execution_count": 59,
   "metadata": {},
   "outputs": [
    {
     "data": {
      "text/plain": [
       "\u001b[0;31mSignature:\u001b[0m \u001b[0mcompute_basic_stats\u001b[0m\u001b[0;34m(\u001b[0m\u001b[0mdata\u001b[0m\u001b[0;34m)\u001b[0m\u001b[0;34m\u001b[0m\u001b[0m\n",
       "\u001b[0;31mDocstring:\u001b[0m <no docstring>\n",
       "\u001b[0;31mSource:\u001b[0m   \n",
       "\u001b[0;32mdef\u001b[0m \u001b[0mcompute_basic_stats\u001b[0m\u001b[0;34m(\u001b[0m\u001b[0mdata\u001b[0m\u001b[0;34m)\u001b[0m\u001b[0;34m:\u001b[0m    \u001b[0;34m\u001b[0m\n",
       "\u001b[0;34m\u001b[0m    \u001b[0;32mreturn\u001b[0m \u001b[0;34m{\u001b[0m\u001b[0;34m\u001b[0m\n",
       "\u001b[0;34m\u001b[0m        \u001b[0;34m'min'\u001b[0m\u001b[0;34m:\u001b[0m \u001b[0;34m(\u001b[0m\u001b[0mtorch\u001b[0m\u001b[0;34m.\u001b[0m\u001b[0mmin\u001b[0m\u001b[0;34m(\u001b[0m\u001b[0mdata\u001b[0m\u001b[0;34m)\u001b[0m\u001b[0;34m.\u001b[0m\u001b[0mitem\u001b[0m\u001b[0;34m(\u001b[0m\u001b[0;34m)\u001b[0m\u001b[0;34m,\u001b[0m \u001b[0mtorch\u001b[0m\u001b[0;34m.\u001b[0m\u001b[0margmin\u001b[0m\u001b[0;34m(\u001b[0m\u001b[0mdata\u001b[0m\u001b[0;34m)\u001b[0m\u001b[0;34m.\u001b[0m\u001b[0mitem\u001b[0m\u001b[0;34m(\u001b[0m\u001b[0;34m)\u001b[0m\u001b[0;34m)\u001b[0m\u001b[0;34m,\u001b[0m\u001b[0;34m\u001b[0m\n",
       "\u001b[0;34m\u001b[0m        \u001b[0;34m'max'\u001b[0m\u001b[0;34m:\u001b[0m \u001b[0;34m(\u001b[0m\u001b[0mtorch\u001b[0m\u001b[0;34m.\u001b[0m\u001b[0mmax\u001b[0m\u001b[0;34m(\u001b[0m\u001b[0mdata\u001b[0m\u001b[0;34m)\u001b[0m\u001b[0;34m.\u001b[0m\u001b[0mitem\u001b[0m\u001b[0;34m(\u001b[0m\u001b[0;34m)\u001b[0m\u001b[0;34m,\u001b[0m \u001b[0mtorch\u001b[0m\u001b[0;34m.\u001b[0m\u001b[0margmax\u001b[0m\u001b[0;34m(\u001b[0m\u001b[0mdata\u001b[0m\u001b[0;34m)\u001b[0m\u001b[0;34m.\u001b[0m\u001b[0mitem\u001b[0m\u001b[0;34m(\u001b[0m\u001b[0;34m)\u001b[0m\u001b[0;34m)\u001b[0m\u001b[0;34m,\u001b[0m\u001b[0;34m\u001b[0m\n",
       "\u001b[0;34m\u001b[0m        \u001b[0;34m'mean'\u001b[0m\u001b[0;34m:\u001b[0m \u001b[0mtorch\u001b[0m\u001b[0;34m.\u001b[0m\u001b[0mmean\u001b[0m\u001b[0;34m(\u001b[0m\u001b[0mdata\u001b[0m\u001b[0;34m)\u001b[0m\u001b[0;34m.\u001b[0m\u001b[0mitem\u001b[0m\u001b[0;34m(\u001b[0m\u001b[0;34m)\u001b[0m\u001b[0;34m,\u001b[0m\u001b[0;34m\u001b[0m\n",
       "\u001b[0;34m\u001b[0m        \u001b[0;34m'std'\u001b[0m\u001b[0;34m:\u001b[0m \u001b[0mtorch\u001b[0m\u001b[0;34m.\u001b[0m\u001b[0mstd\u001b[0m\u001b[0;34m(\u001b[0m\u001b[0mdata\u001b[0m\u001b[0;34m)\u001b[0m\u001b[0;34m.\u001b[0m\u001b[0mitem\u001b[0m\u001b[0;34m(\u001b[0m\u001b[0;34m)\u001b[0m\u001b[0;34m,\u001b[0m\u001b[0;34m\u001b[0m\n",
       "\u001b[0;34m\u001b[0m        \u001b[0;34m'total'\u001b[0m\u001b[0;34m:\u001b[0m \u001b[0mtorch\u001b[0m\u001b[0;34m.\u001b[0m\u001b[0msum\u001b[0m\u001b[0;34m(\u001b[0m\u001b[0mdata\u001b[0m\u001b[0;34m)\u001b[0m\u001b[0;34m.\u001b[0m\u001b[0mitem\u001b[0m\u001b[0;34m(\u001b[0m\u001b[0;34m)\u001b[0m\u001b[0;34m\u001b[0m\n",
       "\u001b[0;34m\u001b[0m    \u001b[0;34m}\u001b[0m\u001b[0;34m\u001b[0m\u001b[0m\n",
       "\u001b[0;31mFile:\u001b[0m      /home/working_directory/ml/plx_projects/pascal_voc2012/notebooks/<ipython-input-25-9b48620ede81>\n",
       "\u001b[0;31mType:\u001b[0m      function\n"
      ]
     },
     "metadata": {},
     "output_type": "display_data"
    }
   ],
   "source": [
    "compute_basic_stats??"
   ]
  },
  {
   "cell_type": "code",
   "execution_count": null,
   "metadata": {},
   "outputs": [],
   "source": []
  },
  {
   "cell_type": "code",
   "execution_count": null,
   "metadata": {},
   "outputs": [],
   "source": []
  },
  {
   "cell_type": "code",
   "execution_count": null,
   "metadata": {},
   "outputs": [],
   "source": [
    "engine._event_handlers"
   ]
  },
  {
   "cell_type": "code",
   "execution_count": null,
   "metadata": {},
   "outputs": [],
   "source": [
    "profiler.event_handlers_times"
   ]
  },
  {
   "cell_type": "code",
   "execution_count": 52,
   "metadata": {},
   "outputs": [],
   "source": [
    "# profiler.dataflow_times"
   ]
  },
  {
   "cell_type": "code",
   "execution_count": 53,
   "metadata": {},
   "outputs": [
    {
     "data": {
      "text/plain": [
       "tensor([0.1237, 0.1236, 0.1236, 0.1237, 0.1237, 0.1237, 0.1236, 0.1237, 0.1237,\n",
       "        0.1237, 0.1237, 0.1236, 0.1237, 0.1237, 0.1237, 0.1237, 0.1237, 0.1236,\n",
       "        0.1236, 0.1237, 0.1236, 0.1236, 0.1237, 0.1236, 0.1237, 0.1237, 0.1236,\n",
       "        0.1237, 0.1237, 0.1236, 0.1237, 0.1237, 0.1236, 0.1236, 0.1237, 0.1236,\n",
       "        0.1237, 0.1237, 0.1236, 0.1237, 0.1237, 0.1237, 0.1236, 0.1237, 0.1237,\n",
       "        0.1237, 0.1236, 0.1237, 0.1237, 0.1237, 0.1237, 0.1237, 0.1237, 0.1237,\n",
       "        0.1237, 0.1236, 0.1237, 0.1237, 0.1236, 0.1237, 0.1237, 0.1236, 0.1237,\n",
       "        0.1237, 0.1236, 0.1237, 0.1237, 0.1237, 0.1237, 0.1236, 0.1237, 0.1236,\n",
       "        0.1236, 0.1237, 0.1237, 0.1237, 0.1237, 0.1236, 0.1236, 0.1237, 0.1236,\n",
       "        0.1237, 0.1237, 0.1236, 0.1236, 0.1237, 0.1237, 0.1236, 0.1237, 0.1237,\n",
       "        0.1237, 0.1237, 0.1236, 0.1237, 0.1237, 0.1236, 0.1237, 0.1237, 0.1237,\n",
       "        0.1236, 0.1237, 0.1237, 0.1236, 0.1237, 0.1237, 0.1237, 0.1237, 0.1237,\n",
       "        0.1237, 0.1237, 0.1237, 0.1237, 0.1237, 0.1237, 0.1237, 0.1236, 0.1236,\n",
       "        0.1237, 0.1236, 0.1237, 0.1237, 0.1236, 0.1237, 0.1237, 0.1236, 0.1237,\n",
       "        0.1237, 0.1236, 0.1237, 0.1237, 0.1236, 0.1237, 0.1237, 0.1237, 0.1236,\n",
       "        0.1236, 0.1237, 0.1237, 0.1237, 0.1237, 0.1236, 0.1237, 0.1237, 0.1237,\n",
       "        0.1237, 0.1237, 0.1236, 0.1237, 0.1237, 0.1236, 0.1236, 0.1236, 0.1237,\n",
       "        0.1237, 0.1237, 0.1237, 0.1237, 0.1237, 0.1237, 0.1236, 0.1237, 0.1237,\n",
       "        0.1236, 0.1236, 0.1237, 0.1237, 0.1237, 0.1237, 0.1236, 0.1236, 0.1237,\n",
       "        0.1236, 0.1237, 0.1237, 0.1236, 0.1236, 0.1237, 0.1237, 0.1237, 0.1237,\n",
       "        0.1237, 0.1237, 0.1237, 0.1236, 0.1236, 0.1237, 0.1237, 0.1240, 0.1237,\n",
       "        0.1237, 0.1237, 0.1237, 0.1237, 0.1237, 0.1237, 0.1237, 0.1236, 0.1237,\n",
       "        0.1237, 0.1236, 0.1236, 0.1237, 0.1237, 0.1236, 0.1237, 0.1237, 0.1237,\n",
       "        0.1237, 0.1237, 0.1236, 0.1237, 0.1237, 0.1236, 0.1237, 0.1237, 0.1236,\n",
       "        0.1237, 0.1237, 0.1236, 0.1237, 0.1237, 0.1237, 0.1236, 0.1237, 0.1237,\n",
       "        0.1236, 0.1237, 0.1237, 0.1237, 0.1237, 0.1237, 0.1236, 0.1236, 0.1242,\n",
       "        0.1237, 0.1237, 0.1237, 0.1236, 0.1237, 0.1237, 0.1236, 0.1236, 0.1237,\n",
       "        0.1236, 0.1237, 0.1237, 0.1237, 0.1236, 0.1237, 0.1236])"
      ]
     },
     "execution_count": 53,
     "metadata": {},
     "output_type": "execute_result"
    }
   ],
   "source": [
    "profiler.processing_times"
   ]
  },
  {
   "cell_type": "code",
   "execution_count": 27,
   "metadata": {},
   "outputs": [
    {
     "data": {
      "text/plain": [
       "30.862500000000004"
      ]
     },
     "execution_count": 27,
     "metadata": {},
     "output_type": "execute_result"
    }
   ],
   "source": [
    "0.12345 * 5 * 50"
   ]
  },
  {
   "cell_type": "code",
   "execution_count": 25,
   "metadata": {},
   "outputs": [],
   "source": [
    "def compute_basic_stats(data):    \n",
    "    return {\n",
    "        'min': (torch.min(data).item(), torch.argmin(data).item()),\n",
    "        'max': (torch.max(data).item(), torch.argmax(data).item()),\n",
    "        'mean': torch.mean(data).item(),\n",
    "        'std': torch.std(data).item(),\n",
    "        'total': torch.sum(data).item()\n",
    "    }"
   ]
  },
  {
   "cell_type": "code",
   "execution_count": 54,
   "metadata": {},
   "outputs": [
    {
     "data": {
      "text/plain": [
       "{'max': (0.12424758076667786, 233),\n",
       " 'mean': 0.12366418540477753,\n",
       " 'min': (0.12356055527925491, 222),\n",
       " 'std': 4.8520789277972654e-05,\n",
       " 'total': 30.916046142578125}"
      ]
     },
     "execution_count": 54,
     "metadata": {},
     "output_type": "execute_result"
    }
   ],
   "source": [
    "compute_basic_stats(profiler.processing_times)"
   ]
  },
  {
   "cell_type": "code",
   "execution_count": 28,
   "metadata": {},
   "outputs": [
    {
     "data": {
      "text/plain": [
       "{'max': (0.011513255536556244, 247),\n",
       " 'mean': 0.011294993571937084,\n",
       " 'min': (0.011203711852431297, 244),\n",
       " 'std': 3.814018418779597e-05,\n",
       " 'total': 2.8237483501434326}"
      ]
     },
     "execution_count": 28,
     "metadata": {},
     "output_type": "execute_result"
    }
   ],
   "source": [
    "compute_basic_stats(profiler.dataflow_times)"
   ]
  },
  {
   "cell_type": "code",
   "execution_count": 29,
   "metadata": {},
   "outputs": [
    {
     "data": {
      "text/plain": [
       "{'max': (0.23074786365032196, 0),\n",
       " 'mean': 0.23057159781455994,\n",
       " 'min': (0.23048798739910126, 2),\n",
       " 'std': 0.00010309197386959568,\n",
       " 'total': 1.152858018875122}"
      ]
     },
     "execution_count": 29,
     "metadata": {},
     "output_type": "execute_result"
    }
   ],
   "source": [
    "compute_basic_stats(profiler.event_handlers_times[Events.EPOCH_STARTED])"
   ]
  },
  {
   "cell_type": "code",
   "execution_count": 30,
   "metadata": {},
   "outputs": [
    {
     "data": {
      "text/plain": [
       "{'max': (0.1205575242638588, 2),\n",
       " 'mean': 0.12043551355600357,\n",
       " 'min': (0.12034600228071213, 0),\n",
       " 'std': 8.179348515113816e-05,\n",
       " 'total': 0.6021775603294373}"
      ]
     },
     "execution_count": 30,
     "metadata": {},
     "output_type": "execute_result"
    }
   ],
   "source": [
    "compute_basic_stats(profiler.event_handlers_times[Events.EPOCH_COMPLETED])"
   ]
  },
  {
   "cell_type": "code",
   "execution_count": 38,
   "metadata": {},
   "outputs": [
    {
     "ename": "TypeError",
     "evalue": "'float' object is not iterable",
     "output_type": "error",
     "traceback": [
      "\u001b[0;31m---------------------------------------------------------------------------\u001b[0m",
      "\u001b[0;31mTypeError\u001b[0m                                 Traceback (most recent call last)",
      "\u001b[0;32m<ipython-input-38-1a89617249db>\u001b[0m in \u001b[0;36m<module>\u001b[0;34m\u001b[0m\n\u001b[0;32m----> 1\u001b[0;31m \u001b[0msum\u001b[0m\u001b[0;34m(\u001b[0m\u001b[0;34m[\u001b[0m\u001b[0msum\u001b[0m\u001b[0;34m(\u001b[0m\u001b[0mprofiler\u001b[0m\u001b[0;34m.\u001b[0m\u001b[0mevent_handlers_times\u001b[0m\u001b[0;34m[\u001b[0m\u001b[0me\u001b[0m\u001b[0;34m]\u001b[0m\u001b[0;34m)\u001b[0m \u001b[0;32mfor\u001b[0m \u001b[0me\u001b[0m \u001b[0;32min\u001b[0m \u001b[0mEvents\u001b[0m \u001b[0;32mif\u001b[0m \u001b[0me\u001b[0m \u001b[0;34m!=\u001b[0m \u001b[0mEvents\u001b[0m\u001b[0;34m.\u001b[0m\u001b[0mEXCEPTION_RAISED\u001b[0m\u001b[0;34m]\u001b[0m\u001b[0;34m)\u001b[0m\u001b[0;34m\u001b[0m\u001b[0m\n\u001b[0m",
      "\u001b[0;32m<ipython-input-38-1a89617249db>\u001b[0m in \u001b[0;36m<listcomp>\u001b[0;34m(.0)\u001b[0m\n\u001b[0;32m----> 1\u001b[0;31m \u001b[0msum\u001b[0m\u001b[0;34m(\u001b[0m\u001b[0;34m[\u001b[0m\u001b[0msum\u001b[0m\u001b[0;34m(\u001b[0m\u001b[0mprofiler\u001b[0m\u001b[0;34m.\u001b[0m\u001b[0mevent_handlers_times\u001b[0m\u001b[0;34m[\u001b[0m\u001b[0me\u001b[0m\u001b[0;34m]\u001b[0m\u001b[0;34m)\u001b[0m \u001b[0;32mfor\u001b[0m \u001b[0me\u001b[0m \u001b[0;32min\u001b[0m \u001b[0mEvents\u001b[0m \u001b[0;32mif\u001b[0m \u001b[0me\u001b[0m \u001b[0;34m!=\u001b[0m \u001b[0mEvents\u001b[0m\u001b[0;34m.\u001b[0m\u001b[0mEXCEPTION_RAISED\u001b[0m\u001b[0;34m]\u001b[0m\u001b[0;34m)\u001b[0m\u001b[0;34m\u001b[0m\u001b[0m\n\u001b[0m",
      "\u001b[0;31mTypeError\u001b[0m: 'float' object is not iterable"
     ]
    }
   ],
   "source": [
    "sum([sum(profiler.event_handlers_times[e]) for e in Events if e != Events.EXCEPTION_RAISED])"
   ]
  },
  {
   "cell_type": "code",
   "execution_count": 40,
   "metadata": {},
   "outputs": [
    {
     "data": {
      "text/plain": [
       "[1, 2, 3]"
      ]
     },
     "execution_count": 40,
     "metadata": {},
     "output_type": "execute_result"
    }
   ],
   "source": [
    "a = [1, 2]\n",
    "b = [3,]\n",
    "a + b"
   ]
  },
  {
   "cell_type": "code",
   "execution_count": 71,
   "metadata": {},
   "outputs": [
    {
     "data": {
      "text/plain": [
       "['Events.EPOCH_STARTED',\n",
       " 'Events.EPOCH_COMPLETED',\n",
       " 'Events.STARTED',\n",
       " 'Events.COMPLETED',\n",
       " 'Events.ITERATION_STARTED',\n",
       " 'Events.ITERATION_COMPLETED',\n",
       " 'Events.EXCEPTION_RAISED']"
      ]
     },
     "execution_count": 71,
     "metadata": {},
     "output_type": "execute_result"
    }
   ],
   "source": [
    "[str(e) for e in Events]"
   ]
  },
  {
   "cell_type": "code",
   "execution_count": null,
   "metadata": {},
   "outputs": [],
   "source": []
  }
 ],
 "metadata": {
  "kernelspec": {
   "display_name": "Python 3",
   "language": "python",
   "name": "python3"
  },
  "language_info": {
   "codemirror_mode": {
    "name": "ipython",
    "version": 3
   },
   "file_extension": ".py",
   "mimetype": "text/x-python",
   "name": "python",
   "nbconvert_exporter": "python",
   "pygments_lexer": "ipython3",
   "version": "3.5.2"
  }
 },
 "nbformat": 4,
 "nbformat_minor": 2
}
